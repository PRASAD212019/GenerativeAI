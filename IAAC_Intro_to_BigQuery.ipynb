{
  "nbformat": 4,
  "nbformat_minor": 0,
  "metadata": {
    "colab": {
      "provenance": [],
      "toc_visible": true,
      "include_colab_link": true
    },
    "kernelspec": {
      "name": "python3",
      "display_name": "Python 3"
    },
    "accelerator": "GPU"
  },
  "cells": [
    {
      "cell_type": "markdown",
      "metadata": {
        "id": "view-in-github",
        "colab_type": "text"
      },
      "source": [
        "<a href=\"https://colab.research.google.com/github/PRASAD212019/GenerativeAI/blob/main/IAAC_Intro_to_BigQuery.ipynb\" target=\"_parent\"><img src=\"https://colab.research.google.com/assets/colab-badge.svg\" alt=\"Open In Colab\"/></a>"
      ]
    },
    {
      "cell_type": "markdown",
      "metadata": {
        "id": "-Ij_gygBEymw"
      },
      "source": [
        "# Setup"
      ]
    },
    {
      "cell_type": "code",
      "metadata": {
        "id": "NQyQhpA7vkTD"
      },
      "source": [
        "from google.colab import auth\n",
        "# login with the gmail id that is attached to your GCP account\n",
        "auth.authenticate_user()"
      ],
      "execution_count": null,
      "outputs": []
    },
    {
      "cell_type": "code",
      "metadata": {
        "id": "uTMyiC7aObXZ",
        "colab": {
          "base_uri": "https://localhost:8080/",
          "height": 51
        },
        "outputId": "ad3eb10f-9222-45aa-84e7-8b8c1724e031"
      },
      "source": [
        "!gcloud alpha billing accounts list"
      ],
      "execution_count": null,
      "outputs": [
        {
          "output_type": "stream",
          "text": [
            "ACCOUNT_ID            NAME                OPEN  MASTER_ACCOUNT_ID\n",
            "01C5D5-791400-E12C43  My Billing Account  True\n"
          ],
          "name": "stdout"
        }
      ]
    },
    {
      "cell_type": "code",
      "metadata": {
        "id": "wS-d4RDoj_LF"
      },
      "source": [
        "import os\n",
        "# use an unique id\n",
        "project_id = 'bq-ven-02'\n",
        "\n",
        "# Fill this billing account with yours\n",
        "bac_id = \"01C5D5-791400-E12C43\"\n",
        "\n"
      ],
      "execution_count": null,
      "outputs": []
    },
    {
      "cell_type": "markdown",
      "metadata": {
        "id": "aCTc8i-Shk34"
      },
      "source": [
        "## Level 1"
      ]
    },
    {
      "cell_type": "markdown",
      "metadata": {
        "id": "qeea6WWzh1GQ"
      },
      "source": [
        "This is a comment"
      ]
    },
    {
      "cell_type": "code",
      "metadata": {
        "id": "ibNPENwvhj6n"
      },
      "source": [],
      "execution_count": null,
      "outputs": []
    },
    {
      "cell_type": "markdown",
      "metadata": {
        "id": "OJkz9CErNsrL"
      },
      "source": [
        "## Project Creation"
      ]
    },
    {
      "cell_type": "code",
      "metadata": {
        "id": "R8i29L9hucOL",
        "colab": {
          "base_uri": "https://localhost:8080/",
          "height": 34
        },
        "outputId": "d544f77a-ea9d-4435-dc61-58951bb938c7"
      },
      "source": [
        "from pprint import pprint\n",
        "\n",
        "from googleapiclient import discovery\n",
        "from oauth2client.client import GoogleCredentials\n",
        "\n",
        "credentials = GoogleCredentials.get_application_default()\n",
        "\n",
        "service = discovery.build('cloudresourcemanager', 'v1', credentials=credentials)\n",
        "\n",
        "project_body = {\n",
        "    \"projectId\": project_id,\n",
        "  \"name\": project_id,\n",
        "}\n",
        "\n",
        "request = service.projects().create(body=project_body)\n",
        "response = request.execute()\n",
        "# TODO: Change code below to process the `response` dict:\n",
        "pprint(response)"
      ],
      "execution_count": null,
      "outputs": [
        {
          "output_type": "stream",
          "text": [
            "{'name': 'operations/cp.8509892374942794122'}\n"
          ],
          "name": "stdout"
        }
      ]
    },
    {
      "cell_type": "code",
      "metadata": {
        "id": "vmnTpVFNTTc9"
      },
      "source": [
        "bq-ven-02"
      ],
      "execution_count": null,
      "outputs": []
    },
    {
      "cell_type": "code",
      "metadata": {
        "id": "BFu9UMeqTWyt"
      },
      "source": [],
      "execution_count": null,
      "outputs": []
    },
    {
      "cell_type": "code",
      "metadata": {
        "id": "1oetGScYTXDc"
      },
      "source": [
        "# bind to this service account so it can be deleted automatically later\n",
        "!gcloud projects add-iam-policy-binding bq-ven-02 \\\n",
        "--member \"serviceAccount:linear-cinema-270422@appspot.gserviceaccount.com\" --role \"roles/owner\""
      ],
      "execution_count": null,
      "outputs": []
    },
    {
      "cell_type": "code",
      "metadata": {
        "id": "DjRY6E_HTXhv"
      },
      "source": [
        "# bind to this service account so it can be deleted automatically later\n",
        "!gcloud projects add-iam-policy-binding first-fuze-271821 \\\n",
        "--member \"serviceAccount:linear-cinema-270422@appspot.gserviceaccount.com\" --role \"roles/owner\""
      ],
      "execution_count": null,
      "outputs": []
    },
    {
      "cell_type": "code",
      "metadata": {
        "id": "oHPUvKoOiIyQ",
        "colab": {
          "base_uri": "https://localhost:8080/",
          "height": 34
        },
        "outputId": "c523d2e4-01c2-4f12-8305-44a5d0deaade"
      },
      "source": [
        "# bind to this service account so it can be deleted automatically later\n",
        "!gcloud projects add-iam-policy-binding {project_id} \\\n",
        "--member \"serviceAccount:linear-cinema-270422@appspot.gserviceaccount.com\" --role \"roles/owner\""
      ],
      "execution_count": null,
      "outputs": [
        {
          "output_type": "stream",
          "text": [
            "\u001b[1;31mERROR:\u001b[0m (gcloud.projects.add-iam-policy-binding) INVALID_ARGUMENT: Request contains an invalid argument.\n"
          ],
          "name": "stdout"
        }
      ]
    },
    {
      "cell_type": "code",
      "metadata": {
        "id": "8T04U6Lgfmgg"
      },
      "source": [
        "os.environ['DEVSHELL_PROJECT_ID'] = project_id\n",
        "os.environ['PROJECT'] = project_id\n"
      ],
      "execution_count": null,
      "outputs": []
    },
    {
      "cell_type": "markdown",
      "metadata": {
        "id": "iiSfMdWiWsv6"
      },
      "source": []
    },
    {
      "cell_type": "markdown",
      "metadata": {
        "id": "PLquKyVOzZoH"
      },
      "source": [
        "### Set Billing on Project"
      ]
    },
    {
      "cell_type": "code",
      "metadata": {
        "id": "QEjzJ861uXoH",
        "colab": {
          "base_uri": "https://localhost:8080/",
          "height": 85
        },
        "outputId": "ff563c6d-2e54-43a3-d242-0282a8b96b20"
      },
      "source": [
        "name = 'projects/' + project_id\n",
        "service = discovery.build('cloudbilling', 'v1',  cache_discovery=False)\n",
        "billing_request = service.projects().updateBillingInfo(name=name,\n",
        "                            body={\"billingAccountName\": \"billingAccounts/\" + bac_id,\n",
        "                                  \"billingEnabled\": True})\n",
        "billing_response = billing_request.execute()\n",
        "pprint(billing_response)"
      ],
      "execution_count": null,
      "outputs": [
        {
          "output_type": "stream",
          "text": [
            "{'billingAccountName': 'billingAccounts/01C5D5-791400-E12C43',\n",
            " 'billingEnabled': True,\n",
            " 'name': 'projects/bq-ven-02/billingInfo',\n",
            " 'projectId': 'bq-ven-02'}\n"
          ],
          "name": "stdout"
        }
      ]
    },
    {
      "cell_type": "code",
      "metadata": {
        "id": "kya3jkxWpMaA",
        "colab": {
          "base_uri": "https://localhost:8080/",
          "height": 34
        },
        "outputId": "1f73b2da-6335-479c-83eb-bcaa6b258fb3"
      },
      "source": [
        "!gcloud config set project {project_id}"
      ],
      "execution_count": null,
      "outputs": [
        {
          "output_type": "stream",
          "text": [
            "Updated property [core/project].\n"
          ],
          "name": "stdout"
        }
      ]
    },
    {
      "cell_type": "markdown",
      "metadata": {
        "id": "8Phb09Pgm8dy"
      },
      "source": [
        "### Create Bucket"
      ]
    },
    {
      "cell_type": "code",
      "metadata": {
        "id": "eK8bTQMC0WAd",
        "colab": {
          "base_uri": "https://localhost:8080/",
          "height": 34
        },
        "outputId": "cb8b1b8d-3146-47c6-b5f0-875530477b37"
      },
      "source": [
        "#if this fails, try once more after a few seconds, billing might not be updated yet\n",
        "\n",
        "from google.cloud import storage\n",
        "\n",
        "bucket_name = project_id\n",
        "\n",
        "storage_client = storage.Client(project=project_id)\n",
        "\n",
        "bucket = storage_client.create_bucket(bucket_name)\n",
        "\n",
        "print(\"Bucket {} created\".format(bucket.name))"
      ],
      "execution_count": null,
      "outputs": [
        {
          "output_type": "stream",
          "text": [
            "Bucket bq-ven-02 created\n"
          ],
          "name": "stdout"
        }
      ]
    },
    {
      "cell_type": "markdown",
      "metadata": {
        "id": "36czPI0Eqha5"
      },
      "source": [
        "### Enable APIs"
      ]
    },
    {
      "cell_type": "code",
      "metadata": {
        "id": "fpXmxmKiKVCF"
      },
      "source": [
        "!gcloud services list --available"
      ],
      "execution_count": null,
      "outputs": []
    },
    {
      "cell_type": "code",
      "metadata": {
        "id": "0qMrtXUz-kqG",
        "colab": {
          "base_uri": "https://localhost:8080/",
          "height": 51
        },
        "outputId": "7671f1e0-acfe-4953-f2d8-7d46ca60986e"
      },
      "source": [
        "# takea s few minutes\n",
        "!gcloud services enable bigquery.googleapis.com\n",
        "!gcloud services enable bigquerydatatransfer.googleapis.com\n",
        "\n"
      ],
      "execution_count": null,
      "outputs": [
        {
          "output_type": "stream",
          "text": [
            "Operation \"operations/acf.803014a6-bb0a-414c-b595-1d67cc02278f\" finished successfully.\n",
            "Operation \"operations/acf.042c865f-f07e-410d-9cd3-f08a75c432e8\" finished successfully.\n"
          ],
          "name": "stdout"
        }
      ]
    },
    {
      "cell_type": "code",
      "metadata": {
        "id": "9G0_dt1NP7sm"
      },
      "source": [
        "# You can skip running these\n",
        "!gcloud services enable cloudbuild.googleapis.com\n",
        "!gcloud services enable pubsub.googleapis.com\n",
        "!gcloud services enable compute.googleapis.com\n",
        "!gcloud services enable storage-api.googleapis.com\n",
        "!gcloud services enable storage-component.googleapis.com\n",
        "!gcloud services enable servicemanagement.googleapis.com\n",
        "!gcloud services enable iam.googleapis.com\n",
        "!gcloud services enable bigquery.googleapis.com\n",
        "!gcloud services enable dataproc.googleapis.com"
      ],
      "execution_count": null,
      "outputs": []
    },
    {
      "cell_type": "markdown",
      "metadata": {
        "id": "TgCRroOgm_kJ"
      },
      "source": [
        "# Lab 1 - Explore BQ using public dataset"
      ]
    },
    {
      "cell_type": "markdown",
      "metadata": {
        "id": "j9oUT-WTpXjn"
      },
      "source": [
        "In this lab you:\n",
        "\n",
        "- Query a public dataset\n",
        "\n",
        "- Create a custom table\n",
        "\n",
        "- Load data into a table\n",
        "\n",
        "- Query a table"
      ]
    },
    {
      "cell_type": "markdown",
      "metadata": {
        "id": "SuAroXH7phZh"
      },
      "source": [
        "## Query a public dataset\n",
        "\n",
        "In this section, you load a public dataset, USA Names, into BigQuery, then query the dataset to determine the most common names in the US between 1910 and 2013."
      ]
    },
    {
      "cell_type": "markdown",
      "metadata": {
        "id": "nqhf2Hesp6F0"
      },
      "source": [
        "### USA Names\n",
        "Query bigquery-public-data.usa_names.usa_1910_2013 for the name and gender of the babies in this dataset, and then list the top 10 names in descending order."
      ]
    },
    {
      "cell_type": "code",
      "metadata": {
        "id": "ZtDQkxpMnL7X",
        "colab": {
          "base_uri": "https://localhost:8080/",
          "height": 359
        },
        "outputId": "c2f300fc-4fed-4379-89ef-961870b6f772"
      },
      "source": [
        "%%bigquery --project {project_id}\n",
        "SELECT\n",
        "  name, gender,\n",
        "  SUM(number) AS total\n",
        "FROM\n",
        "  `bigquery-public-data.usa_names.usa_1910_2013`\n",
        "GROUP BY\n",
        "  name, gender\n",
        "ORDER BY\n",
        "  total DESC\n",
        "LIMIT\n",
        "  10\n"
      ],
      "execution_count": null,
      "outputs": [
        {
          "output_type": "execute_result",
          "data": {
            "text/html": [
              "<div>\n",
              "<style scoped>\n",
              "    .dataframe tbody tr th:only-of-type {\n",
              "        vertical-align: middle;\n",
              "    }\n",
              "\n",
              "    .dataframe tbody tr th {\n",
              "        vertical-align: top;\n",
              "    }\n",
              "\n",
              "    .dataframe thead th {\n",
              "        text-align: right;\n",
              "    }\n",
              "</style>\n",
              "<table border=\"1\" class=\"dataframe\">\n",
              "  <thead>\n",
              "    <tr style=\"text-align: right;\">\n",
              "      <th></th>\n",
              "      <th>name</th>\n",
              "      <th>gender</th>\n",
              "      <th>total</th>\n",
              "    </tr>\n",
              "  </thead>\n",
              "  <tbody>\n",
              "    <tr>\n",
              "      <th>0</th>\n",
              "      <td>James</td>\n",
              "      <td>M</td>\n",
              "      <td>4924235</td>\n",
              "    </tr>\n",
              "    <tr>\n",
              "      <th>1</th>\n",
              "      <td>John</td>\n",
              "      <td>M</td>\n",
              "      <td>4818746</td>\n",
              "    </tr>\n",
              "    <tr>\n",
              "      <th>2</th>\n",
              "      <td>Robert</td>\n",
              "      <td>M</td>\n",
              "      <td>4703680</td>\n",
              "    </tr>\n",
              "    <tr>\n",
              "      <th>3</th>\n",
              "      <td>Michael</td>\n",
              "      <td>M</td>\n",
              "      <td>4280040</td>\n",
              "    </tr>\n",
              "    <tr>\n",
              "      <th>4</th>\n",
              "      <td>William</td>\n",
              "      <td>M</td>\n",
              "      <td>3811998</td>\n",
              "    </tr>\n",
              "    <tr>\n",
              "      <th>5</th>\n",
              "      <td>Mary</td>\n",
              "      <td>F</td>\n",
              "      <td>3728041</td>\n",
              "    </tr>\n",
              "    <tr>\n",
              "      <th>6</th>\n",
              "      <td>David</td>\n",
              "      <td>M</td>\n",
              "      <td>3541625</td>\n",
              "    </tr>\n",
              "    <tr>\n",
              "      <th>7</th>\n",
              "      <td>Richard</td>\n",
              "      <td>M</td>\n",
              "      <td>2526927</td>\n",
              "    </tr>\n",
              "    <tr>\n",
              "      <th>8</th>\n",
              "      <td>Joseph</td>\n",
              "      <td>M</td>\n",
              "      <td>2467298</td>\n",
              "    </tr>\n",
              "    <tr>\n",
              "      <th>9</th>\n",
              "      <td>Charles</td>\n",
              "      <td>M</td>\n",
              "      <td>2237170</td>\n",
              "    </tr>\n",
              "  </tbody>\n",
              "</table>\n",
              "</div>"
            ],
            "text/plain": [
              "      name gender    total\n",
              "0    James      M  4924235\n",
              "1     John      M  4818746\n",
              "2   Robert      M  4703680\n",
              "3  Michael      M  4280040\n",
              "4  William      M  3811998\n",
              "5     Mary      F  3728041\n",
              "6    David      M  3541625\n",
              "7  Richard      M  2526927\n",
              "8   Joseph      M  2467298\n",
              "9  Charles      M  2237170"
            ]
          },
          "metadata": {
            "tags": []
          },
          "execution_count": 11
        }
      ]
    },
    {
      "cell_type": "code",
      "metadata": {
        "id": "AQWT-WpcpG_N"
      },
      "source": [
        "# loading output into Dataframe\n",
        "%%bigquery --project {project_id} df\n",
        "SELECT\n",
        "  name, gender,\n",
        "  SUM(number) AS total\n",
        "FROM\n",
        "  `bigquery-public-data.usa_names.usa_1910_2013`\n",
        "GROUP BY\n",
        "  name, gender\n",
        "ORDER BY\n",
        "  total DESC\n"
      ],
      "execution_count": null,
      "outputs": []
    },
    {
      "cell_type": "code",
      "metadata": {
        "id": "Pr1ZEOt6qcxu",
        "colab": {
          "base_uri": "https://localhost:8080/",
          "height": 204
        },
        "outputId": "26618652-29f6-4ef7-d8ae-f34da474ac93"
      },
      "source": [
        "# print first 10 in dataframe\n",
        "df.head(5)"
      ],
      "execution_count": null,
      "outputs": [
        {
          "output_type": "execute_result",
          "data": {
            "text/html": [
              "<div>\n",
              "<style scoped>\n",
              "    .dataframe tbody tr th:only-of-type {\n",
              "        vertical-align: middle;\n",
              "    }\n",
              "\n",
              "    .dataframe tbody tr th {\n",
              "        vertical-align: top;\n",
              "    }\n",
              "\n",
              "    .dataframe thead th {\n",
              "        text-align: right;\n",
              "    }\n",
              "</style>\n",
              "<table border=\"1\" class=\"dataframe\">\n",
              "  <thead>\n",
              "    <tr style=\"text-align: right;\">\n",
              "      <th></th>\n",
              "      <th>name</th>\n",
              "      <th>gender</th>\n",
              "      <th>total</th>\n",
              "    </tr>\n",
              "  </thead>\n",
              "  <tbody>\n",
              "    <tr>\n",
              "      <th>0</th>\n",
              "      <td>James</td>\n",
              "      <td>M</td>\n",
              "      <td>4924235</td>\n",
              "    </tr>\n",
              "    <tr>\n",
              "      <th>1</th>\n",
              "      <td>John</td>\n",
              "      <td>M</td>\n",
              "      <td>4818746</td>\n",
              "    </tr>\n",
              "    <tr>\n",
              "      <th>2</th>\n",
              "      <td>Robert</td>\n",
              "      <td>M</td>\n",
              "      <td>4703680</td>\n",
              "    </tr>\n",
              "    <tr>\n",
              "      <th>3</th>\n",
              "      <td>Michael</td>\n",
              "      <td>M</td>\n",
              "      <td>4280040</td>\n",
              "    </tr>\n",
              "    <tr>\n",
              "      <th>4</th>\n",
              "      <td>William</td>\n",
              "      <td>M</td>\n",
              "      <td>3811998</td>\n",
              "    </tr>\n",
              "  </tbody>\n",
              "</table>\n",
              "</div>"
            ],
            "text/plain": [
              "      name gender    total\n",
              "0    James      M  4924235\n",
              "1     John      M  4818746\n",
              "2   Robert      M  4703680\n",
              "3  Michael      M  4280040\n",
              "4  William      M  3811998"
            ]
          },
          "metadata": {
            "tags": []
          },
          "execution_count": 13
        }
      ]
    },
    {
      "cell_type": "code",
      "metadata": {
        "id": "8iN240vjQYtE",
        "colab": {
          "base_uri": "https://localhost:8080/",
          "height": 153
        },
        "outputId": "8febb4f1-fce9-427a-ff2a-4946b64f4c1c"
      },
      "source": [
        "df.info()"
      ],
      "execution_count": null,
      "outputs": [
        {
          "output_type": "stream",
          "text": [
            "<class 'pandas.core.frame.DataFrame'>\n",
            "RangeIndex: 32680 entries, 0 to 32679\n",
            "Data columns (total 3 columns):\n",
            "name      32680 non-null object\n",
            "gender    32680 non-null object\n",
            "total     32680 non-null int64\n",
            "dtypes: int64(1), object(2)\n",
            "memory usage: 766.1+ KB\n"
          ],
          "name": "stdout"
        }
      ]
    },
    {
      "cell_type": "markdown",
      "metadata": {
        "id": "umUn2mwgpcCl"
      },
      "source": [
        "## Create Custom Table"
      ]
    },
    {
      "cell_type": "markdown",
      "metadata": {
        "id": "y9bCkqHWqx0R"
      },
      "source": [
        "### Download the data to your local computer\n"
      ]
    },
    {
      "cell_type": "code",
      "metadata": {
        "id": "hPfCDD87pfEo"
      },
      "source": [
        "!wget -q http://www.ssa.gov/OACT/babynames/names.zip"
      ],
      "execution_count": null,
      "outputs": []
    },
    {
      "cell_type": "code",
      "metadata": {
        "id": "VUdrPPrFQtXA",
        "colab": {
          "base_uri": "https://localhost:8080/",
          "height": 136
        },
        "outputId": "87df423f-0ae8-4483-fffe-31602ab2b5f6"
      },
      "source": [
        "!ls -al"
      ],
      "execution_count": null,
      "outputs": [
        {
          "output_type": "stream",
          "text": [
            "total 7060\n",
            "drwxr-xr-x 1 root root    4096 Mar 21 22:49 .\n",
            "drwxr-xr-x 1 root root    4096 Mar 21 22:28 ..\n",
            "-rw-r--r-- 1 root root    2669 Mar 21 22:30 adc.json\n",
            "drwxr-xr-x 1 root root    4096 Mar 21 22:30 .config\n",
            "-rw-r--r-- 1 root root 7200451 May 10  2019 names.zip\n",
            "drwxr-xr-x 1 root root    4096 Mar 18 16:23 sample_data\n"
          ],
          "name": "stdout"
        }
      ]
    },
    {
      "cell_type": "code",
      "metadata": {
        "id": "68nJGyxWplkP"
      },
      "source": [
        "!unzip names.zip"
      ],
      "execution_count": null,
      "outputs": []
    },
    {
      "cell_type": "code",
      "metadata": {
        "id": "PZ02Mr-6pu5k",
        "colab": {
          "base_uri": "https://localhost:8080/",
          "height": 34
        },
        "outputId": "af09848e-c7c2-46ae-b6a6-f38bfd1b7414"
      },
      "source": [
        "!ls -al /content/yob2014.txt"
      ],
      "execution_count": null,
      "outputs": [
        {
          "output_type": "stream",
          "text": [
            "-rw-r--r-- 1 root root 428107 Apr  5  2019 /content/yob2014.txt\n"
          ],
          "name": "stdout"
        }
      ]
    },
    {
      "cell_type": "code",
      "metadata": {
        "id": "rQpIbKY5Sm06",
        "colab": {
          "base_uri": "https://localhost:8080/",
          "height": 187
        },
        "outputId": "b64ea459-70db-45b6-a493-bf276299bc30"
      },
      "source": [
        "!head /content/yob2014.txt"
      ],
      "execution_count": null,
      "outputs": [
        {
          "output_type": "stream",
          "text": [
            "Emma,F,20936\r\n",
            "Olivia,F,19807\r\n",
            "Sophia,F,18609\r\n",
            "Isabella,F,17089\r\n",
            "Ava,F,15696\r\n",
            "Mia,F,13512\r\n",
            "Emily,F,12647\r\n",
            "Abigail,F,12085\r\n",
            "Madison,F,10320\r\n",
            "Charlotte,F,10115\r\n"
          ],
          "name": "stdout"
        }
      ]
    },
    {
      "cell_type": "code",
      "metadata": {
        "id": "xun5D59UuSOo",
        "colab": {
          "base_uri": "https://localhost:8080/",
          "height": 68
        },
        "outputId": "a1c1c315-bba6-436c-ff6c-c9b19d6eb035"
      },
      "source": [
        "!gsutil cp /content/yob2014.txt gs://{project_id}"
      ],
      "execution_count": null,
      "outputs": [
        {
          "output_type": "stream",
          "text": [
            "Copying file:///content/yob2014.txt [Content-Type=text/plain]...\n",
            "-\n",
            "Operation completed over 1 objects/418.1 KiB.                                    \n"
          ],
          "name": "stdout"
        }
      ]
    },
    {
      "cell_type": "code",
      "metadata": {
        "id": "FGLo6zV4ubMz",
        "colab": {
          "base_uri": "https://localhost:8080/",
          "height": 51
        },
        "outputId": "9d7f1bfa-d36a-4b0a-a15f-024273d0359a"
      },
      "source": [
        "!gsutil ls -al gs://{project_id}"
      ],
      "execution_count": null,
      "outputs": [
        {
          "output_type": "stream",
          "text": [
            "    428107  2020-03-21T22:50:58Z  gs://bq-ven-02/yob2014.txt#1584831058691417  metageneration=1\n",
            "TOTAL: 1 objects, 428107 bytes (418.07 KiB)\n"
          ],
          "name": "stdout"
        }
      ]
    },
    {
      "cell_type": "markdown",
      "metadata": {
        "id": "YbYkgJ2drKOk"
      },
      "source": [
        "### Create a dataset\n"
      ]
    },
    {
      "cell_type": "code",
      "metadata": {
        "id": "OkgE7VgZrtE-"
      },
      "source": [
        "dataset_name = \"babynames\""
      ],
      "execution_count": null,
      "outputs": []
    },
    {
      "cell_type": "code",
      "metadata": {
        "id": "j2hQLRPEqLBd",
        "colab": {
          "base_uri": "https://localhost:8080/",
          "height": 425
        },
        "outputId": "0d6471eb-83dd-4031-b24b-b09a9427c1f2"
      },
      "source": [
        "!bq --location=US mk -d {dataset_name} --project_id {project_id}"
      ],
      "execution_count": null,
      "outputs": [
        {
          "output_type": "stream",
          "text": [
            "\n",
            "Welcome to BigQuery! This script will walk you through the \n",
            "process of initializing your .bigqueryrc configuration file.\n",
            "\n",
            "First, we need to set up your credentials if they do not \n",
            "already exist.\n",
            "\n",
            "Credential creation complete. Now we will select a default project.\n",
            "\n",
            "List of projects:\n",
            "  #        projectId          friendlyName   \n",
            " --- ---------------------- ---------------- \n",
            "  1   bq-ven-02              bq-ven-02       \n",
            "  2   linear-cinema-270422   Master Project  \n",
            "  3   first-fuze-271821      Test Project    \n",
            "Found multiple projects. Please enter a selection for \n",
            "which should be the default, or leave blank to not \n",
            "set a default.\n",
            "\n",
            "Enter a selection (1 - 3): 1\n",
            "\n",
            "BigQuery configuration complete! Type \"bq\" to get started.\n",
            "\n",
            "Dataset 'bq-ven-02:babynames' successfully created.\n"
          ],
          "name": "stdout"
        }
      ]
    },
    {
      "cell_type": "code",
      "metadata": {
        "id": "BL3sXxBOrlk3"
      },
      "source": [
        "!bq mk \\\n",
        "--table \\\n",
        "{project_id}:{dataset_name}.names_2014 \\\n",
        "name:string,gender:string,count:integer\n"
      ],
      "execution_count": null,
      "outputs": []
    },
    {
      "cell_type": "markdown",
      "metadata": {
        "id": "hpAEvR7hsF1J"
      },
      "source": [
        "### Load the data into a new table\n"
      ]
    },
    {
      "cell_type": "code",
      "metadata": {
        "id": "qlCdvaEJuGnk",
        "colab": {
          "base_uri": "https://localhost:8080/",
          "height": 34
        },
        "outputId": "9f161efa-254a-4d0b-da01-5eb3bc941008"
      },
      "source": [
        "!bq load \\\n",
        "    --source_format=CSV \\\n",
        "    {project_id}:{dataset_name}.names_2014 \\\n",
        "    gs://{project_id}/yob2014.txt \\\n",
        "    name:STRING,gender:STRING,count:INTEGER"
      ],
      "execution_count": null,
      "outputs": [
        {
          "output_type": "stream",
          "text": [
            "Waiting on bqjob_r2d6bf6951a0b8aa3_00000170ff4e3eec_1 ... (0s) Current status: DONE   \n"
          ],
          "name": "stdout"
        }
      ]
    },
    {
      "cell_type": "markdown",
      "metadata": {
        "id": "YBTRFgyCsUHr"
      },
      "source": [
        "### Query the table\n"
      ]
    },
    {
      "cell_type": "code",
      "metadata": {
        "id": "0nir1j2VvLOw",
        "colab": {
          "base_uri": "https://localhost:8080/",
          "height": 204
        },
        "outputId": "bfc5fc64-81f0-4e72-85d5-4c4f22a08e97"
      },
      "source": [
        "%%bigquery  --project {project_id}\n",
        "SELECT\n",
        " name, count\n",
        "FROM\n",
        " `babynames.names_2014`\n",
        "WHERE\n",
        " gender = 'M'\n",
        "ORDER BY count DESC LIMIT 5"
      ],
      "execution_count": null,
      "outputs": [
        {
          "output_type": "execute_result",
          "data": {
            "text/html": [
              "<div>\n",
              "<style scoped>\n",
              "    .dataframe tbody tr th:only-of-type {\n",
              "        vertical-align: middle;\n",
              "    }\n",
              "\n",
              "    .dataframe tbody tr th {\n",
              "        vertical-align: top;\n",
              "    }\n",
              "\n",
              "    .dataframe thead th {\n",
              "        text-align: right;\n",
              "    }\n",
              "</style>\n",
              "<table border=\"1\" class=\"dataframe\">\n",
              "  <thead>\n",
              "    <tr style=\"text-align: right;\">\n",
              "      <th></th>\n",
              "      <th>name</th>\n",
              "      <th>count</th>\n",
              "    </tr>\n",
              "  </thead>\n",
              "  <tbody>\n",
              "    <tr>\n",
              "      <th>0</th>\n",
              "      <td>Noah</td>\n",
              "      <td>19305</td>\n",
              "    </tr>\n",
              "    <tr>\n",
              "      <th>1</th>\n",
              "      <td>Liam</td>\n",
              "      <td>18462</td>\n",
              "    </tr>\n",
              "    <tr>\n",
              "      <th>2</th>\n",
              "      <td>Mason</td>\n",
              "      <td>17201</td>\n",
              "    </tr>\n",
              "    <tr>\n",
              "      <th>3</th>\n",
              "      <td>Jacob</td>\n",
              "      <td>16883</td>\n",
              "    </tr>\n",
              "    <tr>\n",
              "      <th>4</th>\n",
              "      <td>William</td>\n",
              "      <td>16820</td>\n",
              "    </tr>\n",
              "  </tbody>\n",
              "</table>\n",
              "</div>"
            ],
            "text/plain": [
              "      name  count\n",
              "0     Noah  19305\n",
              "1     Liam  18462\n",
              "2    Mason  17201\n",
              "3    Jacob  16883\n",
              "4  William  16820"
            ]
          },
          "metadata": {
            "tags": []
          },
          "execution_count": 26
        }
      ]
    },
    {
      "cell_type": "markdown",
      "metadata": {
        "id": "Ai_4cxxZsbYE"
      },
      "source": [
        "## Congratulations!\n",
        "You queried a public dataset, then created a custom table, loaded data into it, and then ran a query against that table."
      ]
    },
    {
      "cell_type": "markdown",
      "metadata": {
        "id": "4-Obhm2GCE8P"
      },
      "source": [
        "# Delete Project"
      ]
    },
    {
      "cell_type": "code",
      "metadata": {
        "id": "LtrG__Ck-Y_x"
      },
      "source": [
        "from googleapiclient import discovery\n",
        "from oauth2client.client import GoogleCredentials\n",
        "\n",
        "credentials = GoogleCredentials.get_application_default()\n",
        "\n",
        "service = discovery.build('cloudresourcemanager', 'v1', credentials=credentials)\n",
        "\n",
        "\n",
        "request = service.projects().delete(projectId=project_id)\n",
        "request.execute()"
      ],
      "execution_count": null,
      "outputs": []
    },
    {
      "cell_type": "code",
      "metadata": {
        "id": "AIHnMP44C87A"
      },
      "source": [],
      "execution_count": null,
      "outputs": []
    }
  ]
}