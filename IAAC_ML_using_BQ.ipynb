{
  "nbformat": 4,
  "nbformat_minor": 0,
  "metadata": {
    "colab": {
      "provenance": [],
      "include_colab_link": true
    },
    "kernelspec": {
      "name": "python3",
      "display_name": "Python 3"
    }
  },
  "cells": [
    {
      "cell_type": "markdown",
      "metadata": {
        "id": "view-in-github",
        "colab_type": "text"
      },
      "source": [
        "<a href=\"https://colab.research.google.com/github/PRASAD212019/GenerativeAI/blob/main/IAAC_ML_using_BQ.ipynb\" target=\"_parent\"><img src=\"https://colab.research.google.com/assets/colab-badge.svg\" alt=\"Open In Colab\"/></a>"
      ]
    },
    {
      "cell_type": "markdown",
      "metadata": {
        "id": "-Ij_gygBEymw"
      },
      "source": [
        "# Setup"
      ]
    },
    {
      "cell_type": "code",
      "metadata": {
        "id": "NQyQhpA7vkTD"
      },
      "source": [
        "from google.colab import auth\n",
        "# login with the gmail id that is attached to your GCP account\n",
        "auth.authenticate_user()"
      ],
      "execution_count": null,
      "outputs": []
    },
    {
      "cell_type": "code",
      "metadata": {
        "id": "xygNdzHvRETP",
        "colab": {
          "base_uri": "https://localhost:8080/",
          "height": 52
        },
        "outputId": "ff45107b-152d-4d76-d1c4-efbc3fe7d2ba"
      },
      "source": [
        "!gcloud alpha billing accounts list"
      ],
      "execution_count": null,
      "outputs": [
        {
          "output_type": "stream",
          "text": [
            "ACCOUNT_ID            NAME                OPEN  MASTER_ACCOUNT_ID\n",
            "01FF38-3736B2-D96162  My Billing Account\n"
          ],
          "name": "stdout"
        }
      ]
    },
    {
      "cell_type": "code",
      "metadata": {
        "id": "wS-d4RDoj_LF"
      },
      "source": [
        "import os\n",
        "# use an unique id\n",
        "project_id = 'bq-Pras-03'\n",
        "\n",
        "# Fill this billing account with yours\n",
        "bac_id = \"01C5D5-791400-E12C39\"\n"
      ],
      "execution_count": null,
      "outputs": []
    },
    {
      "cell_type": "markdown",
      "metadata": {
        "id": "OJkz9CErNsrL"
      },
      "source": [
        "### Project Creation"
      ]
    },
    {
      "cell_type": "code",
      "metadata": {
        "id": "R8i29L9hucOL"
      },
      "source": [
        "from pprint import pprint\n",
        "\n",
        "from googleapiclient import discovery\n",
        "from oauth2client.client import GoogleCredentials\n",
        "\n",
        "credentials = GoogleCredentials.get_application_default()\n",
        "\n",
        "service = discovery.build('cloudresourcemanager', 'v1', credentials=credentials)\n",
        "\n",
        "project_body = {\n",
        "    \"projectId\": project_id,\n",
        "  \"name\": project_id,\n",
        "}\n",
        "\n",
        "request = service.projects().create(body=project_body)\n",
        "response = request.execute()\n",
        "# TODO: Change code below to process the `response` dict:\n",
        "pprint(response)"
      ],
      "execution_count": null,
      "outputs": []
    },
    {
      "cell_type": "code",
      "metadata": {
        "id": "oHPUvKoOiIyQ"
      },
      "source": [
        "# bind to this service account so it can be deleted automatically later\n",
        "!gcloud projects add-iam-policy-binding {project_id} \\\n",
        "--member \"serviceAccount:linear-cinema-270422@appspot.gserviceaccount.com\" --role \"roles/owner\""
      ],
      "execution_count": null,
      "outputs": []
    },
    {
      "cell_type": "code",
      "metadata": {
        "id": "8T04U6Lgfmgg"
      },
      "source": [
        "os.environ['DEVSHELL_PROJECT_ID'] = project_id\n",
        "os.environ['PROJECT'] = project_id\n"
      ],
      "execution_count": null,
      "outputs": []
    },
    {
      "cell_type": "markdown",
      "metadata": {
        "id": "iiSfMdWiWsv6"
      },
      "source": []
    },
    {
      "cell_type": "markdown",
      "metadata": {
        "id": "PLquKyVOzZoH"
      },
      "source": [
        "### Set Billing on Project"
      ]
    },
    {
      "cell_type": "code",
      "metadata": {
        "id": "QEjzJ861uXoH"
      },
      "source": [
        "name = 'projects/' + project_id\n",
        "service = discovery.build('cloudbilling', 'v1',  cache_discovery=False)\n",
        "billing_request = service.projects().updateBillingInfo(name=name,\n",
        "                            body={\"billingAccountName\": \"billingAccounts/\" + bac_id,\n",
        "                                  \"billingEnabled\": True})\n",
        "billing_response = billing_request.execute()\n",
        "pprint(billing_response)"
      ],
      "execution_count": null,
      "outputs": []
    },
    {
      "cell_type": "code",
      "metadata": {
        "id": "kya3jkxWpMaA"
      },
      "source": [
        "!gcloud config set project {project_id}"
      ],
      "execution_count": null,
      "outputs": []
    },
    {
      "cell_type": "markdown",
      "metadata": {
        "id": "8Phb09Pgm8dy"
      },
      "source": [
        "### Create Bucket"
      ]
    },
    {
      "cell_type": "code",
      "metadata": {
        "id": "eK8bTQMC0WAd"
      },
      "source": [
        "#if this fails, try once more after a few seconds, billing might not be updated yet\n",
        "\n",
        "from google.cloud import storage\n",
        "\n",
        "bucket_name = project_id\n",
        "\n",
        "storage_client = storage.Client(project=project_id)\n",
        "\n",
        "bucket = storage_client.create_bucket(bucket_name)\n",
        "\n",
        "print(\"Bucket {} created\".format(bucket.name))"
      ],
      "execution_count": null,
      "outputs": []
    },
    {
      "cell_type": "markdown",
      "metadata": {
        "id": "36czPI0Eqha5"
      },
      "source": [
        "### Enable APIs"
      ]
    },
    {
      "cell_type": "code",
      "metadata": {
        "id": "fpXmxmKiKVCF"
      },
      "source": [
        "!gcloud services list --available"
      ],
      "execution_count": null,
      "outputs": []
    },
    {
      "cell_type": "code",
      "metadata": {
        "id": "0qMrtXUz-kqG"
      },
      "source": [
        "# takea s few minutes\n",
        "!gcloud services enable cloudbuild.googleapis.com\n",
        "!gcloud services enable bigquery.googleapis.com\n",
        "!gcloud services enable bigquerydatatransfer.googleapis.com\n",
        "\n"
      ],
      "execution_count": null,
      "outputs": []
    },
    {
      "cell_type": "code",
      "metadata": {
        "id": "9G0_dt1NP7sm"
      },
      "source": [
        "#Do not need this for now\n",
        "!gcloud services enable pubsub.googleapis.com\n",
        "!gcloud services enable compute.googleapis.com\n",
        "!gcloud services enable storage-api.googleapis.com\n",
        "!gcloud services enable storage-component.googleapis.com\n",
        "!gcloud services enable servicemanagement.googleapis.com\n",
        "!gcloud services enable iam.googleapis.com\n",
        "!gcloud services enable bigquery.googleapis.com\n",
        "!gcloud services enable dataproc.googleapis.com"
      ],
      "execution_count": null,
      "outputs": []
    },
    {
      "cell_type": "markdown",
      "metadata": {
        "id": "5IDJJKm7jIvc"
      },
      "source": [
        "#Lab : Predict Visitor Purchases with a Classification Model with BigQuery ML"
      ]
    },
    {
      "cell_type": "markdown",
      "metadata": {
        "id": "hal5e196SBRx"
      },
      "source": [
        "Based on qwiklabs https://www.qwiklabs.com/focuses/1794?parent=catalog"
      ]
    },
    {
      "cell_type": "markdown",
      "metadata": {
        "id": "DY36Q3g-jIvb"
      },
      "source": [
        "**Explore ecommerce data**\n",
        "Scenario: Your data analyst team exported the Google Analytics logs for an ecommerce website into BigQuery and created a new table of all the raw ecommerce visitor session data for you to explore. Using this data, you'll try to answer a few questions."
      ]
    },
    {
      "cell_type": "code",
      "metadata": {
        "id": "-KaLf4xGjIvY"
      },
      "source": [
        "%%bigquery --project {project_id}\n",
        "#standardSQL\n",
        "WITH visitors AS(\n",
        "SELECT\n",
        "COUNT(DISTINCT fullVisitorId) AS total_visitors\n",
        "FROM `data-to-insights.ecommerce.web_analytics`\n",
        "),\n",
        "\n",
        "purchasers AS(\n",
        "SELECT\n",
        "COUNT(DISTINCT fullVisitorId) AS total_purchasers\n",
        "FROM `data-to-insights.ecommerce.web_analytics`\n",
        "WHERE totals.transactions IS NOT NULL\n",
        ")\n",
        "\n",
        "SELECT\n",
        "  total_visitors,\n",
        "  total_purchasers,\n",
        "  total_purchasers / total_visitors AS conversion_rate\n",
        "FROM visitors, purchasers"
      ],
      "execution_count": null,
      "outputs": []
    },
    {
      "cell_type": "markdown",
      "metadata": {
        "id": "O-gQefDOjIvY"
      },
      "source": [
        "**Question**: What are the top 5 selling products?\n"
      ]
    },
    {
      "cell_type": "code",
      "metadata": {
        "id": "JRR8tFEUjIvV"
      },
      "source": [
        "%%bigquery --project {project_id}\n",
        "SELECT\n",
        "  p.v2ProductName,\n",
        "  p.v2ProductCategory,\n",
        "  SUM(p.productQuantity) AS units_sold,\n",
        "  ROUND(SUM(p.localProductRevenue/1000000),2) AS revenue\n",
        "FROM `data-to-insights.ecommerce.web_analytics`,\n",
        "UNNEST(hits) AS h,\n",
        "UNNEST(h.product) AS p\n",
        "GROUP BY 1, 2\n",
        "ORDER BY revenue DESC\n",
        "LIMIT 5;"
      ],
      "execution_count": null,
      "outputs": []
    },
    {
      "cell_type": "markdown",
      "metadata": {
        "id": "UKOHuq0HjIvU"
      },
      "source": [
        "**Question**: How many visitors bought on subsequent visits to the website?"
      ]
    },
    {
      "cell_type": "code",
      "metadata": {
        "id": "aVdRlW5vjIvS"
      },
      "source": [
        "# visitors who bought on a return visit (could have bought on first as well\n",
        "%%bigquery --project {project_id}\n",
        "WITH all_visitor_stats AS (\n",
        "SELECT\n",
        "  fullvisitorid, # 741,721 unique visitors\n",
        "  IF(COUNTIF(totals.transactions > 0 AND totals.newVisits IS NULL) > 0, 1, 0) AS will_buy_on_return_visit\n",
        "  FROM `data-to-insights.ecommerce.web_analytics`\n",
        "  GROUP BY fullvisitorid\n",
        ")\n",
        "\n",
        "SELECT\n",
        "  COUNT(DISTINCT fullvisitorid) AS total_visitors,\n",
        "  will_buy_on_return_visit\n",
        "FROM all_visitor_stats\n",
        "GROUP BY will_buy_on_return_visit\n"
      ],
      "execution_count": null,
      "outputs": []
    },
    {
      "cell_type": "markdown",
      "metadata": {
        "id": "Dj0_hORhjIvR"
      },
      "source": [
        "whether the visitor bought in the future)"
      ]
    },
    {
      "cell_type": "code",
      "metadata": {
        "id": "boSai1hCjIvO"
      },
      "source": [
        "%%bigquery --project {project_id}\n",
        "\n",
        "SELECT\n",
        "  * EXCEPT(fullVisitorId)\n",
        "FROM\n",
        "\n",
        "  # features\n",
        "  (SELECT\n",
        "    fullVisitorId,\n",
        "    IFNULL(totals.bounces, 0) AS bounces,\n",
        "    IFNULL(totals.timeOnSite, 0) AS time_on_site\n",
        "  FROM\n",
        "    `data-to-insights.ecommerce.web_analytics`\n",
        "  WHERE\n",
        "    totals.newVisits = 1)\n",
        "  JOIN\n",
        "  (SELECT\n",
        "    fullvisitorid,\n",
        "    IF(COUNTIF(totals.transactions > 0 AND totals.newVisits IS NULL) > 0, 1, 0) AS will_buy_on_return_visit\n",
        "  FROM\n",
        "      `data-to-insights.ecommerce.web_analytics`\n",
        "  GROUP BY fullvisitorid)\n",
        "  USING (fullVisitorId)\n",
        "ORDER BY time_on_site DESC\n",
        "LIMIT 10;"
      ],
      "execution_count": null,
      "outputs": []
    },
    {
      "cell_type": "markdown",
      "metadata": {
        "id": "F2tb7ZnbjIvO"
      },
      "source": [
        "### Create a BigQuery dataset to store **models**"
      ]
    },
    {
      "cell_type": "code",
      "metadata": {
        "id": "prCkXdwCjIvL"
      },
      "source": [
        "!bq mk --location=US --project_id={project_id} -d ecommerce"
      ],
      "execution_count": null,
      "outputs": []
    },
    {
      "cell_type": "code",
      "metadata": {
        "id": "lGFzo7riWs8V"
      },
      "source": [
        "!bq help"
      ],
      "execution_count": null,
      "outputs": []
    },
    {
      "cell_type": "markdown",
      "metadata": {
        "id": "A5hl4g6PjIvK"
      },
      "source": [
        "### Create Model"
      ]
    },
    {
      "cell_type": "code",
      "metadata": {
        "id": "7LdJxGvvjIvH"
      },
      "source": [
        "%%bigquery --project {project_id}\n",
        "\n",
        "CREATE OR REPLACE MODEL `ecommerce.classification_model`\n",
        "OPTIONS\n",
        "(\n",
        "model_type='logistic_reg',\n",
        "labels = ['will_buy_on_return_visit']\n",
        ")\n",
        "AS\n",
        "\n",
        "#standardSQL\n",
        "SELECT\n",
        "  * EXCEPT(fullVisitorId)\n",
        "FROM\n",
        "\n",
        "  # features\n",
        "  (SELECT\n",
        "    fullVisitorId,\n",
        "    IFNULL(totals.bounces, 0) AS bounces,\n",
        "    IFNULL(totals.timeOnSite, 0) AS time_on_site\n",
        "  FROM\n",
        "    `data-to-insights.ecommerce.web_analytics`\n",
        "  WHERE\n",
        "    totals.newVisits = 1\n",
        "    AND date BETWEEN '20160801' AND '20170430') # train on first 9 months\n",
        "  JOIN\n",
        "  (SELECT\n",
        "    fullvisitorid,\n",
        "    IF(COUNTIF(totals.transactions > 0 AND totals.newVisits IS NULL) > 0, 1, 0) AS will_buy_on_return_visit\n",
        "  FROM\n",
        "      `data-to-insights.ecommerce.web_analytics`\n",
        "  GROUP BY fullvisitorid)\n",
        "  USING (fullVisitorId)\n",
        ";"
      ],
      "execution_count": null,
      "outputs": []
    },
    {
      "cell_type": "markdown",
      "metadata": {
        "id": "-s8DD8k0jIvG"
      },
      "source": [
        "## Evaluate Model"
      ]
    },
    {
      "cell_type": "code",
      "metadata": {
        "id": "xih3-jXxjIvE"
      },
      "source": [
        "%%bigquery --project {project_id}\n",
        "SELECT\n",
        "  roc_auc,\n",
        "  CASE\n",
        "    WHEN roc_auc > .9 THEN 'good'\n",
        "    WHEN roc_auc > .8 THEN 'fair'\n",
        "    WHEN roc_auc > .7 THEN 'not great'\n",
        "  ELSE 'poor' END AS model_quality\n",
        "FROM\n",
        "  ML.EVALUATE(MODEL ecommerce.classification_model,  (\n",
        "\n",
        "SELECT\n",
        "  * EXCEPT(fullVisitorId)\n",
        "FROM\n",
        "\n",
        "  # features\n",
        "  (SELECT\n",
        "    fullVisitorId,\n",
        "    IFNULL(totals.bounces, 0) AS bounces,\n",
        "    IFNULL(totals.timeOnSite, 0) AS time_on_site\n",
        "  FROM\n",
        "    `data-to-insights.ecommerce.web_analytics`\n",
        "  WHERE\n",
        "    totals.newVisits = 1\n",
        "    AND date BETWEEN '20170501' AND '20170630') # eval on 2 months\n",
        "  JOIN\n",
        "  (SELECT\n",
        "    fullvisitorid,\n",
        "    IF(COUNTIF(totals.transactions > 0 AND totals.newVisits IS NULL) > 0, 1, 0) AS will_buy_on_return_visit\n",
        "  FROM\n",
        "      `data-to-insights.ecommerce.web_analytics`\n",
        "  GROUP BY fullvisitorid)\n",
        "  USING (fullVisitorId)\n",
        "\n",
        "));\n"
      ],
      "execution_count": null,
      "outputs": []
    },
    {
      "cell_type": "markdown",
      "metadata": {
        "id": "KCc7g3ZtjIvD"
      },
      "source": [
        "### Improve model performance with Feature Engineering"
      ]
    },
    {
      "cell_type": "markdown",
      "metadata": {
        "id": "2hOmA8l5jIvC"
      },
      "source": [
        "Add some new features and create a second machine learning model called classification_model_2:\n",
        "\n",
        "- How far the visitor got in the checkout process on their first visit\n",
        "- Where the visitor came from (traffic source: organic search, referring site etc..)\n",
        "- Device category (mobile, tablet, desktop)\n",
        "- Geographic information (country)\n",
        "\n",
        "Create this second model by running the below query:"
      ]
    },
    {
      "cell_type": "code",
      "metadata": {
        "id": "Fvg7kMHcjIu8"
      },
      "source": [
        "%%bigquery --project {project_id}\n",
        "CREATE OR REPLACE MODEL `ecommerce.classification_model_2`\n",
        "OPTIONS\n",
        "  (model_type='logistic_reg', labels = ['will_buy_on_return_visit']) AS\n",
        "\n",
        "WITH all_visitor_stats AS (\n",
        "SELECT\n",
        "  fullvisitorid,\n",
        "  IF(COUNTIF(totals.transactions > 0 AND totals.newVisits IS NULL) > 0, 1, 0) AS will_buy_on_return_visit\n",
        "  FROM `data-to-insights.ecommerce.web_analytics`\n",
        "  GROUP BY fullvisitorid\n",
        ")\n",
        "\n",
        "# add in new features\n",
        "SELECT * EXCEPT(unique_session_id) FROM (\n",
        "\n",
        "  SELECT\n",
        "      CONCAT(fullvisitorid, CAST(visitId AS STRING)) AS unique_session_id,\n",
        "\n",
        "      # labels\n",
        "      will_buy_on_return_visit,\n",
        "\n",
        "      MAX(CAST(h.eCommerceAction.action_type AS INT64)) AS latest_ecommerce_progress,\n",
        "\n",
        "      # behavior on the site\n",
        "      IFNULL(totals.bounces, 0) AS bounces,\n",
        "      IFNULL(totals.timeOnSite, 0) AS time_on_site,\n",
        "      totals.pageviews,\n",
        "\n",
        "      # where the visitor came from\n",
        "      trafficSource.source,\n",
        "      trafficSource.medium,\n",
        "      channelGrouping,\n",
        "\n",
        "      # mobile or desktop\n",
        "      device.deviceCategory,\n",
        "\n",
        "      # geographic\n",
        "      IFNULL(geoNetwork.country, \"\") AS country\n",
        "\n",
        "  FROM `data-to-insights.ecommerce.web_analytics`,\n",
        "     UNNEST(hits) AS h\n",
        "\n",
        "    JOIN all_visitor_stats USING(fullvisitorid)\n",
        "\n",
        "  WHERE 1=1\n",
        "    # only predict for new visits\n",
        "    AND totals.newVisits = 1\n",
        "    AND date BETWEEN '20160801' AND '20170430' # train 9 months\n",
        "\n",
        "  GROUP BY\n",
        "  unique_session_id,\n",
        "  will_buy_on_return_visit,\n",
        "  bounces,\n",
        "  time_on_site,\n",
        "  totals.pageviews,\n",
        "  trafficSource.source,\n",
        "  trafficSource.medium,\n",
        "  channelGrouping,\n",
        "  device.deviceCategory,\n",
        "  country\n",
        ");"
      ],
      "execution_count": null,
      "outputs": []
    },
    {
      "cell_type": "markdown",
      "metadata": {
        "id": "gS_huj84jIu6"
      },
      "source": [
        "### Evaluate the new model\n"
      ]
    },
    {
      "cell_type": "code",
      "metadata": {
        "id": "cvZattMKjIuy"
      },
      "source": [
        "%%bigquery --project {project_id}\n",
        "#standardSQL\n",
        "SELECT\n",
        "  roc_auc,\n",
        "  CASE\n",
        "    WHEN roc_auc > .9 THEN 'good'\n",
        "    WHEN roc_auc > .8 THEN 'fair'\n",
        "    WHEN roc_auc > .7 THEN 'not great'\n",
        "  ELSE 'poor' END AS model_quality\n",
        "FROM\n",
        "  ML.EVALUATE(MODEL ecommerce.classification_model_2,  (\n",
        "\n",
        "WITH all_visitor_stats AS (\n",
        "SELECT\n",
        "  fullvisitorid,\n",
        "  IF(COUNTIF(totals.transactions > 0 AND totals.newVisits IS NULL) > 0, 1, 0) AS will_buy_on_return_visit\n",
        "  FROM `data-to-insights.ecommerce.web_analytics`\n",
        "  GROUP BY fullvisitorid\n",
        ")\n",
        "\n",
        "# add in new features\n",
        "SELECT * EXCEPT(unique_session_id) FROM (\n",
        "\n",
        "  SELECT\n",
        "      CONCAT(fullvisitorid, CAST(visitId AS STRING)) AS unique_session_id,\n",
        "\n",
        "      # labels\n",
        "      will_buy_on_return_visit,\n",
        "\n",
        "      MAX(CAST(h.eCommerceAction.action_type AS INT64)) AS latest_ecommerce_progress,\n",
        "\n",
        "      # behavior on the site\n",
        "      IFNULL(totals.bounces, 0) AS bounces,\n",
        "      IFNULL(totals.timeOnSite, 0) AS time_on_site,\n",
        "      totals.pageviews,\n",
        "\n",
        "      # where the visitor came from\n",
        "      trafficSource.source,\n",
        "      trafficSource.medium,\n",
        "      channelGrouping,\n",
        "\n",
        "      # mobile or desktop\n",
        "      device.deviceCategory,\n",
        "\n",
        "      # geographic\n",
        "      IFNULL(geoNetwork.country, \"\") AS country\n",
        "\n",
        "  FROM `data-to-insights.ecommerce.web_analytics`,\n",
        "     UNNEST(hits) AS h\n",
        "\n",
        "    JOIN all_visitor_stats USING(fullvisitorid)\n",
        "\n",
        "  WHERE 1=1\n",
        "    # only predict for new visits\n",
        "    AND totals.newVisits = 1\n",
        "    AND date BETWEEN '20170501' AND '20170630' # eval 2 months\n",
        "\n",
        "  GROUP BY\n",
        "  unique_session_id,\n",
        "  will_buy_on_return_visit,\n",
        "  bounces,\n",
        "  time_on_site,\n",
        "  totals.pageviews,\n",
        "  trafficSource.source,\n",
        "  trafficSource.medium,\n",
        "  channelGrouping,\n",
        "  device.deviceCategory,\n",
        "  country\n",
        ")\n",
        "));"
      ],
      "execution_count": null,
      "outputs": []
    },
    {
      "cell_type": "markdown",
      "metadata": {
        "id": "3doMQcH6jIuv"
      },
      "source": [
        "## Predict which new visitors will come back and purchase"
      ]
    },
    {
      "cell_type": "code",
      "metadata": {
        "id": "KGcQmWdyjIuo"
      },
      "source": [
        "%%bigquery --project {project_id}\n",
        "SELECT\n",
        "*\n",
        "FROM\n",
        "  ml.PREDICT(MODEL `ecommerce.classification_model_2`,\n",
        "   (\n",
        "\n",
        "WITH all_visitor_stats AS (\n",
        "SELECT\n",
        "  fullvisitorid,\n",
        "  IF(COUNTIF(totals.transactions > 0 AND totals.newVisits IS NULL) > 0, 1, 0) AS will_buy_on_return_visit\n",
        "  FROM `data-to-insights.ecommerce.web_analytics`\n",
        "  GROUP BY fullvisitorid\n",
        ")\n",
        "\n",
        "  SELECT\n",
        "      CONCAT(fullvisitorid, '-',CAST(visitId AS STRING)) AS unique_session_id,\n",
        "\n",
        "      # labels\n",
        "      will_buy_on_return_visit,\n",
        "\n",
        "      MAX(CAST(h.eCommerceAction.action_type AS INT64)) AS latest_ecommerce_progress,\n",
        "\n",
        "      # behavior on the site\n",
        "      IFNULL(totals.bounces, 0) AS bounces,\n",
        "      IFNULL(totals.timeOnSite, 0) AS time_on_site,\n",
        "      totals.pageviews,\n",
        "\n",
        "      # where the visitor came from\n",
        "      trafficSource.source,\n",
        "      trafficSource.medium,\n",
        "      channelGrouping,\n",
        "\n",
        "      # mobile or desktop\n",
        "      device.deviceCategory,\n",
        "\n",
        "      # geographic\n",
        "      IFNULL(geoNetwork.country, \"\") AS country\n",
        "\n",
        "  FROM `data-to-insights.ecommerce.web_analytics`,\n",
        "     UNNEST(hits) AS h\n",
        "\n",
        "    JOIN all_visitor_stats USING(fullvisitorid)\n",
        "\n",
        "  WHERE\n",
        "    # only predict for new visits\n",
        "    totals.newVisits = 1\n",
        "    AND date BETWEEN '20170701' AND '20170801' # test 1 month\n",
        "\n",
        "  GROUP BY\n",
        "  unique_session_id,\n",
        "  will_buy_on_return_visit,\n",
        "  bounces,\n",
        "  time_on_site,\n",
        "  totals.pageviews,\n",
        "  trafficSource.source,\n",
        "  trafficSource.medium,\n",
        "  channelGrouping,\n",
        "  device.deviceCategory,\n",
        "  country\n",
        ")\n",
        "\n",
        ")\n",
        "\n",
        "ORDER BY\n",
        "  predicted_will_buy_on_return_visit DESC;"
      ],
      "execution_count": null,
      "outputs": []
    },
    {
      "cell_type": "markdown",
      "metadata": {
        "id": "EE5yteivjIum"
      },
      "source": [
        "Your model will now output the predictions it has for those July 2017 ecommerce sessions. You can see three newly added fields:\n",
        "\n",
        "- predicted_will_buy_on_return_visit: whether the model thinks the visitor will buy later (1 = yes)\n",
        "- predicted_will_buy_on_return_visit_probs.label: the binary classifier for yes / no\n",
        "- predicted_will_buy_on_return_visit.prob: the confidence the model has in it's prediction (1 = 100%)"
      ]
    },
    {
      "cell_type": "markdown",
      "metadata": {
        "id": "4-Obhm2GCE8P"
      },
      "source": [
        "# Delete Project"
      ]
    },
    {
      "cell_type": "code",
      "metadata": {
        "id": "LtrG__Ck-Y_x"
      },
      "source": [
        "from googleapiclient import discovery\n",
        "from oauth2client.client import GoogleCredentials\n",
        "\n",
        "credentials = GoogleCredentials.get_application_default()\n",
        "\n",
        "service = discovery.build('cloudresourcemanager', 'v1', credentials=credentials)\n",
        "\n",
        "\n",
        "request = service.projects().delete(projectId=project_id)\n",
        "request.execute()"
      ],
      "execution_count": null,
      "outputs": []
    }
  ]
}